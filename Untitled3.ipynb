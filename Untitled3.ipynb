{
  "nbformat": 4,
  "nbformat_minor": 0,
  "metadata": {
    "colab": {
      "provenance": [],
      "authorship_tag": "ABX9TyN2xvbML3Y70QHsZXWE6bQO",
      "include_colab_link": true
    },
    "kernelspec": {
      "name": "python3",
      "display_name": "Python 3"
    },
    "language_info": {
      "name": "python"
    }
  },
  "cells": [
    {
      "cell_type": "markdown",
      "metadata": {
        "id": "view-in-github",
        "colab_type": "text"
      },
      "source": [
        "<a href=\"https://colab.research.google.com/github/qasim-34/software-testing/blob/main/Untitled3.ipynb\" target=\"_parent\"><img src=\"https://colab.research.google.com/assets/colab-badge.svg\" alt=\"Open In Colab\"/></a>"
      ]
    },
    {
      "cell_type": "code",
      "execution_count": 1,
      "metadata": {
        "colab": {
          "base_uri": "https://localhost:8080/"
        },
        "id": "JSXCozLBs7pe",
        "outputId": "e49c6c9c-94bd-4efc-ee41-a5281b8bb9b0"
      },
      "outputs": [
        {
          "output_type": "stream",
          "name": "stdout",
          "text": [
            "['Name: Alice, ID: 1, Grade: A', 'Name: Bob, ID: 2, Grade: B']\n",
            "['Name: Bob, ID: 2, Grade: B']\n"
          ]
        }
      ],
      "source": [
        "# student_management_system.py\n",
        "class Student:\n",
        "    def __init__(self, name, student_id, grade):\n",
        "        self.name = name\n",
        "        self.student_id = student_id\n",
        "        self.grade = grade\n",
        "\n",
        "    def get_details(self):\n",
        "        return f\"Name: {self.name}, ID: {self.student_id}, Grade: {self.grade}\"\n",
        "\n",
        "def add_student(student_list, student):\n",
        "    student_list.append(student)\n",
        "\n",
        "def remove_student(student_list, student_id):\n",
        "    for student in student_list:\n",
        "        if student.student_id == student_id:\n",
        "            student_list.remove(student)\n",
        "            return True\n",
        "    return False\n",
        "\n",
        "def main():\n",
        "    students = []\n",
        "    s1 = Student(\"Alice\", \"1\", \"A\")\n",
        "    s2 = Student(\"Bob\", \"2\", \"B\")\n",
        "    add_student(students, s1)\n",
        "    add_student(students, s2)\n",
        "    print([student.get_details() for student in students])\n",
        "    remove_student(students, \"1\")\n",
        "    print([student.get_details() for student in students])\n",
        "\n",
        "if __name__ == \"__main__\":\n",
        "    main()\n"
      ]
    }
  ]
}